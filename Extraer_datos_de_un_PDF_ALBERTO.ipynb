{
  "nbformat": 4,
  "nbformat_minor": 0,
  "metadata": {
    "colab": {
      "provenance": [],
      "authorship_tag": "ABX9TyMeg1zDGR/mx+3qT+CYmZQP",
      "include_colab_link": true
    },
    "kernelspec": {
      "name": "python3",
      "display_name": "Python 3"
    },
    "language_info": {
      "name": "python"
    }
  },
  "cells": [
    {
      "cell_type": "markdown",
      "metadata": {
        "id": "view-in-github",
        "colab_type": "text"
      },
      "source": [
        "<a href=\"https://colab.research.google.com/github/albertovh71/PDFtoDataFrame/blob/main/Extraer_datos_de_un_PDF_ALBERTO.ipynb\" target=\"_parent\"><img src=\"https://colab.research.google.com/assets/colab-badge.svg\" alt=\"Open In Colab\"/></a>"
      ]
    },
    {
      "cell_type": "markdown",
      "source": [
        "# EXTRAER DATOS DE UN PDF CON TABULA"
      ],
      "metadata": {
        "id": "ICIBABpqbjA_"
      }
    },
    {
      "cell_type": "code",
      "execution_count": null,
      "metadata": {
        "id": "wIyzCFYbbh4Z"
      },
      "outputs": [],
      "source": [
        "# instalo la bilbioteca tabula-py\n",
        "%pip install tabula-py"
      ]
    },
    {
      "cell_type": "code",
      "source": [
        "# convierto el PDF en una lista llamda lista_pdf\n",
        "import tabula\n",
        "\n",
        "# Lee la tabla desde un archivo PDF\n",
        "lista_pdf = tabula.read_pdf(\"Ejemplo3_PDF.pdf\", pages='all', multiple_tables=True)"
      ],
      "metadata": {
        "id": "0kG736DwiJSy"
      },
      "execution_count": null,
      "outputs": []
    },
    {
      "cell_type": "code",
      "source": [
        "# la lista que ha creado tiene todas las hojas del PDF\n",
        "# es una lista de longitud igual al numero de paginas\n",
        "lista_pdf[0-2]"
      ],
      "metadata": {
        "id": "-QQxJpnvqRnd"
      },
      "execution_count": null,
      "outputs": []
    },
    {
      "cell_type": "code",
      "source": [
        "# ahora convierto la lista en un data frame con pandas\n",
        "\n",
        "import pandas as pd\n",
        "\n",
        "df1 = pd.DataFrame(lista_pdf[0])\n",
        "df2 = pd.DataFrame(lista_pdf[1])\n",
        "df3 = pd.DataFrame(lista_pdf[2])\n",
        "\n",
        "# df_tabla1=pd.concat([df1, df2, df3, df4], ignore_index=True)\n",
        "# print(df_tabla1.head(10))\n",
        "\n",
        "print(df1.head())\n",
        "print(df2.head())\n",
        "print(df3.head())"
      ],
      "metadata": {
        "colab": {
          "base_uri": "https://localhost:8080/"
        },
        "id": "4lmCMt4koGDq",
        "outputId": "a0ad2961-620f-4332-d4b0-38741d4e9bf6"
      },
      "execution_count": null,
      "outputs": [
        {
          "output_type": "stream",
          "name": "stdout",
          "text": [
            "   FILAS  Col1  Col2  Col3  Col4  Col5  Col6  Col7  Col8\n",
            "0  Fila1    24    35     3    95    25    13    43    66\n",
            "1  Fila2    80    46    64     6    75    88    69    43\n",
            "2  Fila3    40    23    65    24    41    23    56    24\n",
            "3  Fila4     5    71    96    13    91    52    35    45\n",
            "4  Fila5    54    65    46    55    74    45    42    13\n",
            "    FILAS  Col_A  Col_B  Col_C  Col_D  Col_E  Col_F  Col_G  Col_H  Col_I  \\\n",
            "0  Fila_1    336    300    330    339    322    315    350    347    334   \n",
            "1  Fila_2    322    313    343    328    301    312    309    315    336   \n",
            "2  Fila_3    349    316    303    335    328    350    350    314    332   \n",
            "3  Fila_4    319    300    306    319    326    340    339    336    337   \n",
            "4  Fila_5    305    315    321    323    336    316    346    307    317   \n",
            "\n",
            "   Col_J  \n",
            "0    337  \n",
            "1    337  \n",
            "2    330  \n",
            "3    347  \n",
            "4    321  \n",
            "    FILAS   A   B   C   D   E   F   G   H\n",
            "0  Fila_1  31  35  30  32  35  34  35  35\n",
            "1  Fila_2  30  30  30  32  32  34  35  30\n",
            "2  Fila_3  35  34  35  35  30  31  32  33\n",
            "3  Fila_4  30  35  31  31  31  33  35  31\n",
            "4  Fila_5  32  34  30  32  31  30  33  30\n"
          ]
        }
      ]
    }
  ]
}